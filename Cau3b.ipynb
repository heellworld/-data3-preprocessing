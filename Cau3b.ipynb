{
 "cells": [
  {
   "cell_type": "code",
   "execution_count": 5,
   "id": "85bc7667",
   "metadata": {},
   "outputs": [
    {
     "name": "stderr",
     "output_type": "stream",
     "text": [
      "[nltk_data] Downloading package punkt to\n",
      "[nltk_data]     C:\\Users\\HELLO\\AppData\\Roaming\\nltk_data...\n",
      "[nltk_data]   Package punkt is already up-to-date!\n"
     ]
    },
    {
     "data": {
      "text/plain": [
       "True"
      ]
     },
     "execution_count": 5,
     "metadata": {},
     "output_type": "execute_result"
    }
   ],
   "source": [
    "from sklearn.feature_extraction.text import CountVectorizer\n",
    "import os\n",
    "import nltk\n",
    "from nltk.util import ngrams\n",
    "nltk.download('punkt')"
   ]
  },
  {
   "cell_type": "code",
   "execution_count": 6,
   "id": "333601d0",
   "metadata": {},
   "outputs": [],
   "source": [
    "# Define the directory path\n",
    "directory_path = r\"./Downloads/Data3/Data/Data_Preprocessing/Data_Preprocessing.txt\"\n",
    "# Đọc nội dung từ tệp\n",
    "with open(directory_path, 'r', encoding='utf-8') as file:\n",
    "    text = file.read()"
   ]
  },
  {
   "cell_type": "code",
   "execution_count": null,
   "id": "06706b15",
   "metadata": {},
   "outputs": [],
   "source": [
    "text"
   ]
  },
  {
   "cell_type": "code",
   "execution_count": 9,
   "id": "3b01f899",
   "metadata": {},
   "outputs": [],
   "source": [
    "def extract_ngrams(text, num):\n",
    "    n_grams = ngrams(nltk.word_tokenize(text), num)\n",
    "    return [ ' '.join(grams) for grams in n_grams]"
   ]
  },
  {
   "cell_type": "code",
   "execution_count": null,
   "id": "ec9f3271",
   "metadata": {},
   "outputs": [],
   "source": [
    "print(\"1-gram: \", extract_ngrams(text, 1))"
   ]
  },
  {
   "cell_type": "code",
   "execution_count": null,
   "id": "1983de8a",
   "metadata": {},
   "outputs": [],
   "source": [
    "print(\"2-gram: \", extract_ngrams(text, 2))"
   ]
  },
  {
   "cell_type": "code",
   "execution_count": null,
   "id": "5caa6cd2",
   "metadata": {},
   "outputs": [],
   "source": [
    "print(\"3-gram: \", extract_ngrams(text, 3))"
   ]
  },
  {
   "cell_type": "code",
   "execution_count": null,
   "id": "03abb9da",
   "metadata": {},
   "outputs": [],
   "source": [
    "print(\"4-gram: \", extract_ngrams(text, 4))"
   ]
  },
  {
   "cell_type": "code",
   "execution_count": null,
   "id": "5c148c47",
   "metadata": {},
   "outputs": [],
   "source": []
  }
 ],
 "metadata": {
  "kernelspec": {
   "display_name": "Python 3 (ipykernel)",
   "language": "python",
   "name": "python3"
  },
  "language_info": {
   "codemirror_mode": {
    "name": "ipython",
    "version": 3
   },
   "file_extension": ".py",
   "mimetype": "text/x-python",
   "name": "python",
   "nbconvert_exporter": "python",
   "pygments_lexer": "ipython3",
   "version": "3.11.5"
  }
 },
 "nbformat": 4,
 "nbformat_minor": 5
}
