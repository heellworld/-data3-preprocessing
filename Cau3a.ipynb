{
 "cells": [
  {
   "cell_type": "code",
   "execution_count": 7,
   "id": "5aa9d74d",
   "metadata": {},
   "outputs": [
    {
     "name": "stderr",
     "output_type": "stream",
     "text": [
      "[nltk_data] Downloading package punkt to\n",
      "[nltk_data]     C:\\Users\\HELLO\\AppData\\Roaming\\nltk_data...\n",
      "[nltk_data]   Package punkt is already up-to-date!\n"
     ]
    },
    {
     "data": {
      "text/plain": [
       "True"
      ]
     },
     "execution_count": 7,
     "metadata": {},
     "output_type": "execute_result"
    }
   ],
   "source": [
    "from sklearn.feature_extraction.text import CountVectorizer\n",
    "import os\n",
    "import nltk\n",
    "nltk.download('punkt')"
   ]
  },
  {
   "cell_type": "code",
   "execution_count": 4,
   "id": "e401299b",
   "metadata": {},
   "outputs": [],
   "source": [
    "# Define the directory path\n",
    "directory_path = r\"./Downloads/Data3/Data/Data_Preprocessing/Data_Preprocessing.txt\"\n",
    "# Đọc nội dung từ tệp\n",
    "with open(directory_path, 'r', encoding='utf-8') as file:\n",
    "    text = file.read()"
   ]
  },
  {
   "cell_type": "code",
   "execution_count": null,
   "id": "05e9cc71",
   "metadata": {},
   "outputs": [],
   "source": [
    "text"
   ]
  },
  {
   "cell_type": "code",
   "execution_count": 8,
   "id": "84a13161",
   "metadata": {},
   "outputs": [],
   "source": [
    "# Tách thành danh sách các câu\n",
    "sentences = nltk.sent_tokenize(text)"
   ]
  },
  {
   "cell_type": "code",
   "execution_count": null,
   "id": "d8d49e59",
   "metadata": {},
   "outputs": [],
   "source": [
    "sentences"
   ]
  },
  {
   "cell_type": "code",
   "execution_count": 10,
   "id": "f1c8a484",
   "metadata": {},
   "outputs": [
    {
     "name": "stdout",
     "output_type": "stream",
     "text": [
      "Words in dictionary:  ['ac', 'ad', 'ai_lại', 'ai_ngờ', 'anh_chị', 'anh_ấy', 'app', 'apple', 'ba_chỉ', 'ba_rọi', 'backround', 'ban', 'ban_đầu', 'banh', 'bao', 'bao_cấp', 'bao_giờ', 'bao_nhiêu', 'bay', 'bbq', 'be', 'be_coffee', 'beaming_face_with_smiling_eyes', 'beef', 'bem', 'bento', 'bh', 'bia', 'bia_tươi', 'bill', 'biê', 'biểt', 'biện_pháp', 'blueberry', 'bn', 'box', 'buddy', 'buffet', 'bung', 'buồn', 'buổi_trưa', 'buộc', 'bài_trí', 'bàn', 'bàn_ghế', 'bàn_là', 'bào', 'bá', 'bánh', 'bánh_canh', 'bánh_mì', 'bánh_tráng', 'bánh_xèo', 'bánh_đa', 'báo', 'bát', 'bây_giờ', 'bèđi', 'bé', 'bé_tí', 'bé_tẹo', 'béo', 'bê', 'bên_cạnh', 'bình', 'bình_dân', 'bình_dương', 'bình_luận', 'bình_thường', 'bình_thản', 'bí', 'bí_bách', 'bò', 'bó_tay', 'bóng', 'bôt', 'bù', 'bùi', 'bùn', 'bún', 'băm', 'băng', 'bĩu', 'bơ', 'bưng', 'bạch', 'bạch_tuộc', 'bạn_bè', 'bạn_gái', 'bản_mặt', 'bản_thân', 'bảng', 'bảng_hiệu', 'bảo', 'bảo_vệ', 'bấm', 'bất', 'bất_cứ', 'bất_tiện', 'bấy_nhiêu', 'bẩn', 'bậc', 'bận', 'bậy_bạ', 'bắp', 'bắp_cải', 'bắt_đầu', 'bằng_được', 'bếp', 'bịghét', 'bịkhinh', 'bịsẵn', 'bọc', 'bọn', 'bọt', 'bỏ_mứa', 'bỏ_qua', 'bố_trí', 'bốp', 'bồn_cầu', 'bột', 'bớt', 'bở', 'bởi_vậy', 'bụi', 'bụng', 'bừa_bộn', 'bữa', 'bự', 'bực', 'bực_bội', 'bực_mình', 'bực_tức', 'ca_sĩ', 'cafe', 'cali', 'camera', 'cancel', 'canh', 'cao_su', 'cao_thấp', 'capuchino', 'card', 'cau_có', 'cay', 'cf', 'chacắc', 'chai', 'chao', 'chaooo', 'cheap', 'check', 'chi', 'chi_nhánh', 'chiên', 'chiều', 'chiểu', 'cho_biết', 'cho_dù', 'cho_nên', 'cho_qua_chuyện', 'cho_xong', 'choai_choai', 'choáng_váng', 'chua', 'chua_chua', 'chua_lè', 'chuyên_nghiệp', 'chuẩn_bị', 'chuỗi', 'chà', 'chào', 'chán', 'chán_chê', 'cháo', 'chát', 'cháy', 'chân', 'chân_thành', 'chè', 'chém', 'chém_đẹp', 'chén', 'chê', 'chìm', 'chìêuuu', 'chín', 'chùi', 'chúc', 'chúng_ta', 'chúng_tôi', 'chút', 'chút_xíu', 'chơ', 'chương', 'chương_trình', 'chạo', 'chạy', 'chả', 'chả_giò', 'chảng', 'chảnh', 'chảy', 'chấm', 'chấm_hết', 'chấp_nhận', 'chất', 'chất_lượng', 'chậm', 'chậm_chạp', 'chật', 'chắc_chắn', 'chẳng', 'chặt', 'chế', 'chỉ_được_cái', 'chỉbằng', 'chỉlàbỏvào', 'chỉmới', 'chỉthích', 'chỉởmức', 'chị_em', 'chịu_khó', 'chồng', 'chỗ', 'chỗnày', 'chội', 'chờ', 'chờ_đợi', 'chợ', 'chục', 'chụm', 'chụp', 'chủ', 'chủ_ngữ', 'chủ_nhật', 'chủ_động', 'chủtiểm', 'chứhẹn', 'chứkhông', 'chứng_tỏ', 'chừa', 'chữ', 'cjả', 'class', 'cmt', 'cn', 'coca', 'coffee', 'coi', 'comment', 'con_bé', 'con_nhỏ', 'con_nít', 'confused_face', 'cookie', 'coopmart', 'cua', 'cua_đồng', 'cuối_cùng', 'cuộc_gọi', 'cuộn', 'cà_chua', 'cà_phê', 'cà_rốt', 'cành', 'cá', 'cá_basa', 'cá_chiên', 'cá_chép', 'cá_hồi', 'cá_nhân', 'cái_rụp', 'cám_ơn', 'cán', 'cáđuối', 'câu', 'có_học', 'có_khi', 'có_lẽ', 'có_thể', 'có_vẻ', 'có_ăn', 'có_điều', 'cógiao', 'cóli', 'cóluôn', 'cóngười', 'cónhắn', 'cótrc', 'cótrước', 'cóvịgìlạlạ', 'cóăn', 'cóưu', 'cô_gái', 'công_bằng', 'công_suất', 'công_sở', 'công_thức', 'công_ty', 'cùngg', 'cúp', 'cút', 'căng', 'cũ', 'cũg', 'cũng_như', 'cũng_nên', 'cơ_bản', 'cơ_man', 'cơ_mà', 'cơm', 'cơm_bình_dân', 'cơm_chiên', 'cơm_hộp', 'cơm_niêu_singapore', 'cưới', 'cướp', 'cười', 'cười_trừ', 'cạch', 'cạnh', 'cải', 'cải_thiện', 'cải_tiến', 'cảm', 'cảm_giác', 'cảm_nhận', 'cảm_thấy', 'cảm_xúc', 'cảm_ơn', 'cảo', 'cầm', 'cầu_kì', 'cẩm', 'cẩn_thận', 'cẩu_thả', 'cắn', 'cắt', 'cắt_cổ', 'cặp', 'cọng', 'cố_tình', 'cốm', 'cồn', 'cổ', 'cổ_họng', 'cộng', 'cỡ', 'cụ_thể', 'cục', 'cụt_hứng', 'củng', 'cứ_thế', 'cứng', 'cửa_hàng', 'cực', 'cực_kì', 'cực_kỳ', 'da', 'dai', 'dang', 'dasushi', 'date', 'dc', 'decor', 'deli', 'dg', 'dj', 'downcast_face_with_sweat', 'downgrade', 'du_lịch', 'duy_nhất', 'duy_trì', 'dày', 'dám', 'dán', 'dân', 'dâu', 'dây_điện', 'dòng', 'dôn', 'dùm', 'dùrẻhơn', 'dăm', 'dĩa', 'dơ', 'dư', 'dư_thừa', 'dưa_leo', 'dạng', 'dạo', 'dấm', 'dầm', 'dần', 'dầu', 'dầu_mỡ', 'dậy', 'dắt', 'dằn_mặt', 'dẹp', 'dẻ', 'dẻo', 'dến', 'dễ_sợ', 'dễ_thương', 'dễthương', 'dịch_vụ', 'dịp', 'dọc', 'dọn', 'dồ', 'dời', 'dở', 'dởnhất', 'dởthìăn', 'dởtể', 'dởẹc', 'dụng', 'dứoi', 'dừa', 'dừng', 'dựlàkhông', 'dựt', 'eatable_taste', 'eo_ôi', 'event', 'expressionless_face', 'face_blowing_a_kiss', 'face_with_tears_of_joy', 'fb', 'foody', 'free', 'freeship', 'ghi', 'ghiền', 'ghé', 'ghét', 'ghévô', 'ghẹ', 'ghế', 'gia_vị', 'gian', 'giao', 'gimbap', 'già', 'giành', 'giá', 'giá_cả', 'giá_thành', 'giácảkhálàokie', 'giáhơi', 'giám_sát', 'gián', 'giáthìlại', 'giòn', 'giúp', 'giả_vờ', 'giải_quyết', 'giải_thích', 'giải_tán', 'giảm_giá', 'giấy', 'giấy_thấm', 'giọng', 'giới_thiệu', 'giờ', 'giờđi', 'giở', 'gogi', 'goi', 'greentea', 'grinning_face_with_sweat', 'gà', 'gà_công_nghiệp', 'gác', 'gì', 'gìcafe', 'gìcũng', 'gìcơm', 'gìhết', 'gìmàtểquá', 'gìvềđồăn', 'góc', 'gói', 'góp_ý', 'gương_mặt', 'gạo', 'gật_gật', 'gắn', 'gắp', 'gắt', 'gị', 'gọi', 'gọi_là', 'gỏi', 'gốc', 'gớm', 'gửi', 'haa', 'had', 'hai', 'haiz', 'haizzz', 'hang', 'hashtaglink', 'hay_là', 'hay_sao', 'hehe', 'heo', 'hi', 'hi_vọng', 'hic', 'hix', 'hixhix', 'hiê', 'hiếu_khách', 'hiền', 'hiện', 'hoan', 'hoang_mang', 'hochiminhhashtaglavy', 'hoe', 'hok', 'hon', 'hoài', 'hoành_thánh', 'hoá_trang', 'hoá_đơn', 'hoảng', 'hqa', 'href', 'hum', 'huế', 'huống_gì', 'huỷ', 'hy_vọng', 'hà_nội', 'hà_tĩnh', 'hài', 'hài_lòng', 'hàn', 'hàn_quốc', 'hàng', 'hàng_quán', 'hành', 'hành_tinh', 'há', 'háo_hức', 'hâhha', 'hãi', 'hét', 'hên', 'hêt', 'hêta', 'hì_hì', 'hình', 'hình_như', 'hình_ảnh', 'híhửng', 'hóa_ra', 'hóa_đơn', 'hôm', 'hôm_nay', 'hôm_qua', 'hôm_sau', 'hông', 'hút', 'hũ', 'hơi', 'hơm', 'hơpj', 'hương_vị', 'hạn', 'hạnh_dung', 'hạt', 'hạt_dẻ', 'hả', 'hải', 'hải_sản', 'hấp_dẫn', 'hầm', 'hầu_hết', 'hầu_như', 'hẳn', 'hẹn', 'hẹp', 'hẻm', 'hết_chỗ_nói', 'hết_sức', 'hề', 'hềhỏi', 'học_sinh', 'hối', 'hồi', 'hồng', 'hổ_lốn', 'hộp', 'hột', 'hợp', 'hợp_khẩu', 'hợp_lí', 'hợp_lý', 'hụt_hẫng', 'hứng', 'im', 'im_lặng', 'im_re', 'indochina', 'iphone', 'issac', 'it', 'jong', 'juice', 'karaoke', 'kem', 'kgian', 'kh', 'kha', 'kha_khá', 'khay', 'khen', 'khinh_bỉ', 'kho', 'khoai', 'khoái', 'khoáng', 'khoảng_cách', 'khoảnh', 'khu', 'khu_vực', 'khuat', 'khuya', 'khuyên', 'khuyến_mãi', 'khác_nhau', 'khác_nào', 'khách_hàng', 'khách_quan', 'kháhút', 'khánóng', 'kháok', 'kháồn', 'khéo', 'khét', 'khê', 'khó_chịu', 'khó_khăn', 'khói', 'khónói', 'khô', 'không', 'không_bao_giờ', 'không_gian', 'không_khí', 'không_thể', 'không_đâu', 'khônh', 'khúc_mắc', 'khăn', 'khẩu_vị', 'khốn_nạn', 'khổ_cực', 'khủng_khiếp', 'kia', 'kia_mà', 'kim', 'kim_chi', 'kimbap', 'kimchi', 'kimchi_kimchi', 'kimpap', 'kinh_doanh', 'kinh_dị', 'kinh_khủng', 'kinh_nghiệm', 'kiê', 'kiên_nhẫn', 'kiếm', 'kiểm_chứng', 'kiểu', 'km', 'ktra', 'kèm', 'kèo', 'ké', 'kém', 'kéo', 'kê', 'kêu', 'kêu_coca', 'kì', 'kì_lạ', 'kì_vọng', 'kìa', 'kính', 'kĩ', 'kẹo', 'kế', 'kịp', 'kỹ', 'la_liệt', 'lam', 'lan', 'lau', 'lavy', 'le', 'len', 'li', 'linh_động', 'liên', 'liên_quan', 'liếc', 'liền', 'liều_mình', 'liểu', 'loay_hoay', 'loe', 'loudly_crying_face', 'loảng_xoảng', 'luc', 'lun', 'luộc', 'ly', 'làcókim_chi', 'làlúc', 'làm_bạn', 'làm_bằng', 'làm_gì', 'làm_ngơ', 'làm_phiền', 'làm_việc', 'làm_vậy', 'làm_ăn', 'làmột', 'làquácay', 'làquán', 'làthái', 'làthất', 'làđịa', 'lá', 'lát', 'lâần', 'lèo_tèo', 'lê', 'lí', 'lí_nhí', 'lòng_vòng', 'lùn', 'lúc_nào', 'lúng_túng', 'lăn', 'lũ', 'lưng', 'lương', 'lương_hữu_khánh', 'lượt', 'lạ_miệng', 'lạc', 'lại_nữa', 'lạnh', 'lạt', 'lạvàthúvị', 'lấn_át', 'lấy_được', 'lầu', 'lẩu', 'lẩu_ởđây', 'lẫn', 'lẫu', 'lắc', 'lắm', 'lắng_nghe', 'lẳng_lặng', 'lặn_lội', 'lặp_đi_lặp_lại', 'lẹ', 'lẽgọi', 'lềđường', 'lịch_sự', 'lọc', 'lỗi', 'lộn_xộn', 'lỡ', 'lợn', 'lợn_cợn', 'lửa', 'lựa_chọn', 'mai', 'maki', 'max', 'may', 'may_mà', 'may_ra', 'mayonaise', 'mayonnaise', 'menu', 'minh', 'miếg', 'miếng', 'miển', 'miễn_phí', 'miệng', 'mochi', 'mong', 'mong_muốn', 'mong_đợi', 'mua', 'muffin', 'muh', 'muôi', 'muối', 'muỗi', 'muỗng', 'mà_còn', 'mà_lại', 'mà_sao', 'màbàn', 'màbáo', 'màchờhơn', 'màchờmọc', 'màcárất', 'màcảnhững', 'màgiátiền', 'mànước', 'màphải', 'màu', 'mái', 'mát', 'máy', 'máy_lạnh', 'máy_nói', 'máy_điện', 'mãi', 'mãi_mãi', 'mãng_cầu', 'mè', 'mém', 'mê', 'mì', 'mì_tôm', 'mìgói', 'mìh', 'mình', 'mò', 'món', 'môi', 'mùa_hè', 'mùi', 'mùi_vị', 'múc', 'mún', 'măng', 'mưa', 'mướn', 'mạng', 'mảnh', 'mất_công', 'mất_tiêu', 'mấy', 'mẩu', 'mật_ong', 'mắc', 'mắc_công', 'mắm_tôm', 'mắt', 'mắt_tròn_mắt_dẹt', 'mặc', 'mặc_dù', 'mặn', 'mặn_chát', 'mặt', 'mặt_mũi', 'mặt_tiền', 'mẹ', 'mẻ', 'mềm', 'mềm_nhũn', 'mệt', 'mọi_khi', 'mỏi', 'mỏng', 'mỏng_rớt', 'mốt', 'mồm', 'mồng', 'một_chiều', 'một_chút', 'một_tí', 'một_vài', 'mới', 'mới_phải', 'mới_đầu', 'mời', 'mở_cửa', 'mởởnha_trang', 'mỡ', 'mứt', 'mực', 'mỳ', 'na_ná', 'nam', 'nay', 'ndinh', 'nem', 'nem_chua', 'nen', 'ngang', 'ngang_ngang', 'nge', 'nghe_nói', 'nghi', 'nghiên_cứu', 'nghiện', 'nghĩ_lại', 'nghĩ_ngợi', 'nghĩa_là', 'nghỉ', 'ngon', 'ngon_miệng', 'ngoài_ra', 'ngu', 'nguyên', 'nguyễn', 'nguyễn_chí', 'nguội', 'nguội_lạnh', 'nguời', 'ngày_càng', 'ngày_trước', 'ngán', 'ngâm', 'ngã', 'ngón', 'ngõ', 'ngõmàphục', 'ngơ_ngơ', 'ngươig', 'người', 'người_ngoài', 'người_ta', 'ngại', 'ngấy', 'ngẫm', 'ngập', 'ngắm', 'ngắt', 'ngồi_bệt', 'ngờ', 'ngờcơm', 'ngừng', 'nha', 'nha_trang', 'nhai', 'nhanh_nhẹn', 'nhiu', 'nhiề', 'nhiệm_vụ', 'nhiệt_tình', 'nho', 'nhu', 'nhung', 'nhà_hàng', 'nhà_thờ', 'nhà_ăn', 'nhàmình', 'nhàthìmấy', 'nhác', 'nhách', 'nhánh', 'nhân', 'nhân_viên', 'nhât', 'nhão', 'nhét', 'nhìn_chung', 'nhìu', 'nhùn', 'nhúng', 'nhăn_nhó', 'như', 'như_không', 'như_thường', 'như_thế', 'như_thế_nào', 'như_thế_này', 'như_vậy', 'nhưg', 'nhưng_mà', 'nhạt', 'nhạt_nhẽo', 'nhạy_cảm', 'nhả', 'nhảra', 'nhất_là', 'nhất_quyết', 'nhất_định', 'nhầm', 'nhận_xét', 'nhập', 'nhật', 'nhậu', 'nhắc', 'nhắm', 'nhắn', 'nhắn_tin', 'nhẹ', 'nhẹt', 'nhịn', 'nhỏ_xíu', 'nhố_nhăng', 'nhớt', 'nhợn', 'nhựa', 'nica', 'ninh', 'niêu', 'niềm_nở', 'no', 'no_nê', 'ns', 'nt', 'nuốt', 'nào', 'này_nọ', 'nát', 'nãy', 'nãy_giờ', 'nè', 'né', 'ném', 'nêm', 'nói_chung', 'nói_chuyện', 'nói_trống', 'nóng', 'nóng_hổi', 'nóđúng', 'năm_kia', 'nước', 'nước_chấm', 'nước_dùng', 'nước_lèo', 'nước_lọc', 'nước_ngoài', 'nước_ngọt', 'nước_tương', 'nướng', 'nản', 'nấm', 'nấu', 'nắp', 'nằm', 'nẵng', 'nếm', 'nếu_không', 'nếu_như', 'nệm', 'nồi', 'nồng', 'nổi', 'nổi_tiếng', 'nội_thất', 'nứơc', 'nử', 'nửa', 'ok', 'okey', 'omg_ruồi', 'online', 'ooo', 'ord', 'order', 'ox', 'oặt', 'panchan', 'pha', 'pha_chế', 'phc', 'phi', 'phiếu', 'phong_phú', 'phàn_nàn', 'phát', 'phát_hiện', 'phát_triển', 'phân', 'phân_biệt', 'phê_bình', 'phí', 'phíship', 'phòng', 'phô_mai', 'phù_hợp', 'phúc_long', 'phút', 'phương', 'phạm_văn_đồng', 'phải', 'phản_hồi', 'phấn', 'phần_phụ', 'phẫn_nộ', 'phụ', 'phụ_thu', 'phục', 'phục_thù', 'phục_vụ', 'phục_vụ_bàn', 'pin', 'popping', 'post', 'pr', 'preview', 'ps', 'pts', 'pudding', 'pv', 'pó', 'ql', 'qua', 'qua_lại', 'quan', 'quan_tâm', 'quan_điểm', 'quang', 'que', 'quen', 'quyền_lợi', 'quá_chừng', 'quá_trời', 'quá_đáng', 'quá_đỗi', 'quá_ư', 'quácafe', 'quácao', 'quáhôm_qua', 'quán', 'quán_bà_bé', 'quán_từ', 'quán_ăn', 'quánên', 'quátểkhông', 'quân', 'quê', 'quên', 'quả_là', 'quả_thật', 'quản_lí', 'quản_lý', 'quảng', 'quảng_cáo', 'quảng_trị', 'quấy', 'quần_áo', 'quầy', 'quẩy', 'quẳng', 'quế', 'quốc', 'quỵt', 'qá', 'qán', 'ra_gì', 'ra_sao', 'rang', 'rau', 'rau_muống', 'rau_sống', 'reception', 'recommend', 'rep', 'restroom', 'review', 'ri', 'riết', 'rong_biển', 'ruồi', 'ruột', 'rv', 'rành', 'rách', 'rán', 'ráng', 'ré', 'ròn', 'rót', 'rôi', 'rõ_ràng', 'rùi', 'rút', 'rơi', 'rảnh', 'rẹt', 'rẻ', 'rễluôn', 'rối', 'rồi', 'rổ', 'rộng', 'rớt', 'rời_rạc', 'rụm', 'rủ', 'rủbạn', 'sai', 'sai_sót', 'salad', 'sale', 'salmon', 'sang_trọng', 'sarcasm', 'sau_này', 'saying', 'set', 'share', 'ship', 'shock', 'singapo', 'singapore', 'sinh', 'sinh_nhật', 'sinh_tố', 'sinh_viên', 'siro', 'siêu', 'siêu_thị', 'smiling_face_with_smiling_eyes', 'socola', 'soda', 'sophi', 'sprite', 'steak', 'stinh', 'subeo', 'suhi', 'sumo', 'sung', 'sunrise', 'sup', 'sushi', 'suất', 'suối', 'svh', 'sàn', 'sách', 'sâm', 'sân_nhà', 'sâu', 'sâu_sắc', 'súp', 'sđt', 'sơ_suất', 'sơ_sài', 'sư', 'sườn', 'sạch', 'sạch_sẽ', 'sản', 'sầu', 'sắp_xếp', 'sẵn_sàng', 'sẵng', 'sẽgiao', 'sẽlàbữa', 'số_lượng', 'sống', 'sống_nhăn', 'sốnhững', 'sốt', 'sốt_ruột', 'sổ', 'sợ', 'sợi', 'sụ', 'sử', 'sữa', 'sự_kiện', 'sựthức', 't_', 'ta', 'takoyaki', 'tam', 'tan', 'teaspoon', 'teen', 'tek', 'teo', 'tgian', 'thanh_toán', 'thau', 'thay', 'thay_đổi', 'the_coffee_house', 'thi', 'thich', 'this', 'thiu', 'thiên_địa', 'thiết_kế', 'thiết_nghĩ', 'thiếu_nhi', 'thiển', 'thiểt', 'thiệt', 'thiệt_hại', 'thoi', 'thoáng', 'thoại', 'thoả', 'thoải', 'thoải_mái', 'thu', 'thu_ngân', 'thui', 'thuya', 'thuê', 'thuốc', 'thành', 'thành_phố', 'thái', 'thái_tử', 'thái_độ', 'tháp', 'thân', 'thân_thiện', 'thèm', 'thê', 'thì_có', 'thì_là', 'thì_phải', 'thìa', 'thìbáo', 'thìbình', 'thìcũng', 'thìcứnói', 'thìim_re', 'thìko', 'thìlàm', 'thìmới', 'thìnhão', 'thìnhắc', 'thìphục', 'thìquán', 'thìthuê_bao', 'thìthấy', 'thìít', 'thíc', 'thích_hợp', 'thích_thú', 'thông', 'thông_báo', 'thông_cảm', 'thông_tin', 'thúi', 'thơm', 'thương', 'thương_hiệu', 'thường', 'thường_xuyên', 'thưởng_thức', 'thượng_đế', 'thạch', 'thả', 'thảo', 'thấm_tháp', 'thất', 'thất_vọng', 'thấy', 'thậm_chí', 'thập', 'thập_cẩm', 'thật_là', 'thật_sự', 'thật_tình', 'thẳng', 'thế', 'thế_là', 'thế_nhưng', 'thế_nào', 'thế_này', 'thếnào', 'thề', 'thịt', 'thối', 'thờ_ơ', 'thời', 'thời_gian', 'thủy', 'thứ_ba', 'thứ_hai', 'thức', 'thức_ăn', 'thừa', 'thử', 'thửgọi', 'thửkim_chi', 'thực_phẩm', 'thực_sự', 'thực_tế', 'thực_đơn', 'thỳ', 'tiger', 'tinh_bột', 'tip', 'tiên', 'tiêu', 'tiếc', 'tiếng', 'tiếp', 'tiếp_theo', 'tiếp_tục', 'tiết_kiệm', 'tiếu', 'tiềm_năng', 'tiền', 'tiền_nào_của_nấy', 'tiểm', 'tiệm', 'tn', 'to', 'to_chuyện', 'toan', 'tobokki', 'tokboki', 'tokio', 'tokk', 'tokkboki', 'toàn', 'toàn_tập', 'trai', 'trang_trí', 'trc', 'triê', 'trog', 'trong_suốt', 'trung', 'trung_bình', 'trung_lưu', 'trung_tâm', 'trà', 'tràn_trề', 'tràsữa', 'trái', 'trái_cây', 'tráng_miệng', 'trân_châu', 'trâu', 'trình', 'trò_chuyện', 'tròn', 'trông', 'trúng', 'trăm_ngàn', 'trơ_trơ', 'trưa', 'trước_hết', 'trường', 'trường_hợp', 'trả_lời', 'trầm_trọng', 'trắng', 'trẻ', 'trọn', 'trọng', 'trốn', 'trống', 'trống_không', 'trống_rỗng', 'trộn', 'trời', 'trở_lên', 'trở_lại', 'trợn', 'trứng', 'trứng_cá', 'trừ', 'trực_tiếp', 'tteokbokki', 'tui', 'tuot', 'tuy_nhiên', 'tuyệt', 'tuyệt_vời', 'tuyệt_đối', 'tuần', 'tuộc', 'tuột', 'tuỳ', 'tuỵêt', 'tàm_tạm', 'tám', 'tát', 'tâm', 'tây', 'té', 'tép', 'tình', 'tình_cờ', 'tình_huống', 'tình_trạng', 'tí', 'tía_tô', 'tím', 'tóc', 'tóm', 'tóm_lại', 'tô', 'tôm', 'tôn_trọng', 'túi', 'túm', 'tý', 'tăng_giá', 'tăng_giákhoảng', 'tĩnh', 'tư', 'tư_vấn', 'tươg', 'tươi', 'tươi_cười', 'tương', 'tương_đương', 'tương_đối', 'tương_ớt', 'tưởng', 'tại_chỗ', 'tại_sao', 'tạm', 'tạt', 'tất_cả', 'tầm', 'tầng', 'tẩm', 'tận', 'tận_dụng', 'tận_tình', 'tập', 'tắt', 'tết', 'tệ', 'tệ_hại', 'tỏ', 'tỏ_vẻ', 'tốc_độ', 'tối', 'tối_om', 'tối_qua', 'tốn', 'tổ', 'tổng', 'tổng_cộng', 'tổng_thể', 'tởn', 'tụi', 'tức', 'tức_là', 'tự_nhiên', 'tự_động', 'ui', 'urban', 'urban_station', 'uy_tín', 'uống', 'uổng', 'va', 'vanilla', 'vc', 've', 'view', 'vison', 'viên', 'viết', 'viển', 'viễn', 'việt', 'voucher', 'vui', 'vui_lòng', 'vui_mừng', 'vui_vẻ', 'vy', 'vàcay', 'vàchắc', 'vàcótrang', 'vàcơm', 'vàcứnhư', 'vàkhông_gian', 'vàlịch', 'vàng', 'vào_khoảng', 'vàtanh', 'vân', 'vây', 'vãng_lai', 'vê', 'vì_vậy', 'vìloại', 'vìnóto', 'vìvậy', 'vìđãtừng', 'vòng_vèo', 'vô', 'vô_cùng', 'vô_kể', 'vô_tư', 'văn_hoá', 'văn_hóa', 'vĩnh', 'vạn_hạnh', 'vấn_đề', 'vật_vã', 'vậy', 'vậy_là', 'vậy_mà', 'vắng', 'vắng_hoe', 'vặt', 'vềgiá', 'vềvấn', 'vệ', 'vệ_sinh', 'vỉ', 'vỉa_hè', 'vị', 'vị_ngữ', 'vị_trí', 'vịcũng', 'vọng', 'vỏ', 'vớt', 'vỡ', 'vợ', 'vụ', 'vụchậm', 'vụcũng', 'vụkhông', 'vụlâu', 'vụnhanh', 'vụnhư', 'vụquán', 'vụquásức', 'vừa_miệng', 'vừa_mới', 'vừa_phải', 'vừa_rồi', 'was', 'web', 'xanh', 'xe', 'xe_cộ', 'xe_hơi', 'xe_máy', 'xe_đạp', 'xem_lại', 'xem_thường', 'xem_xét', 'xin_lỗi', 'xinh_xinh', 'xinh_xắn', 'xiên', 'xong', 'xong_đời', 'xoài', 'xoáy', 'xu_hướng', 'xui', 'xung_quanh', 'xuân', 'xuất', 'xà_lách', 'xài', 'xàm', 'xào', 'xác', 'xác_nhận', 'xángồi', 'xèo_xèo', 'xéo', 'xì_xào', 'xì_xầm', 'xíu', 'xóa', 'xô', 'xông_hơi', 'xúc_xích', 'xưng_hô', 'xương', 'xả', 'xấu', 'xập_xệ', 'xếp', 'xịn', 'xịt', 'xới', 'xụn', 'xứng_đáng', 'xừ', 'xử_lý', 'y_chang', 'yuki', 'yên', 'yêu', 'yêu_cầu', 'yêu_teaspoon', 'zui', 'zé_house', 'á_khẩu', 'ân_cần', 'í_ới', 'ít_nhất', 'ít_ra', 'ói', 'ô_tô', 'ôi', 'ôi_thôi', 'ôm', 'úp', 'ý_kiến', 'ý_định', 'ăn_chơi', 'ăn_giá', 'ăn_không', 'ăn_liền', 'ăn_thua', 'ăn_uống', 'ăn_ở', 'đa', 'đa_dạng', 'đau', 'đau_lòng', 'đay', 'đem', 'đen', 'đeo', 'đi', 'đi_nữa', 'đi_về', 'điê', 'điều_hòa', 'điển', 'điện', 'điện_thoại', 'đoi', 'đoạn', 'đt', 'đua', 'đuoc', 'đuối', 'đuổi', 'đà', 'đà_nẵng', 'đành', 'đào', 'đá', 'đábào', 'đám', 'đánh', 'đánh_giá', 'đávới', 'đáxay', 'đã_vậy', 'đãcóđồăn', 'đãko', 'đãtính', 'đèn', 'đén', 'đê', 'đên', 'đì', 'đình', 'đòi', 'đòi_hỏi', 'đói', 'đóng_cửa', 'đóthấy', 'đóđê', 'đôi', 'đông', 'đông_nghịt', 'đùi', 'đúng_mực', 'đăng', 'đĩa', 'đũa', 'đơn', 'đơn_giản', 'đơn_điệu', 'đường', 'được', 'được_cái', 'đảm_bảo', 'đảo', 'đất', 'đấy', 'đầu', 'đầu_tiên', 'đầu_tư', 'đầy_đủ', 'đậm', 'đậm_đà', 'đậu', 'đậu_phộng', 'đậu_tương', 'đắt', 'đắt_đỏ', 'đằng', 'đặc', 'đặc_biệt', 'đặc_sắc', 'đặc_trưng', 'đặt_hàng', 'đẹp', 'đẹp_mắt', 'đến_nơi', 'đến_nỗi', 'đề_nghị', 'đền', 'đền_bù', 'đềnày', 'để_ý', 'đỉnh', 'địa_chỉ', 'địa_điểm', 'định', 'định_bụng', 'định_hướng', 'đọc', 'đỏ_lòm', 'đối', 'đối_diện', 'đối_với', 'đối_xử', 'đống', 'đồ', 'đồ_ăn', 'đồn', 'đồng_nai', 'đồng_phục', 'đồăn', 'đổ', 'đổi', 'đỗ', 'độ', 'độc_đáo', 'động_tĩnh', 'độnhư', 'độphụvụcủa', 'đời', 'đỡ', 'đợi', 'đợt', 'đụng', 'đủlà', 'đủnguyên', 'đủno', 'đứa', 'đứng', 'đứng_dậy', 'đừng', 'đựng', 'đựoc', 'ưa_thích', 'ưng', 'ưng_ý', 'ướp', 'ảnh', 'ảnh_hưởng', 'ấm_cúng', 'ấn_tượng', 'ẩu', 'ậm_ừ', 'ặc', 'ẻm', 'ỉu_xìu', 'ốc', 'ống', 'ồn', 'ồn_ào', 'ổn', 'ớn', 'ớt', 'ời', 'ởmức', 'ởnha_trang', 'ởđây', 'ức_chế', 'ứhự']\n"
     ]
    }
   ],
   "source": [
    "# Xay dung vector BOW\n",
    "vect = CountVectorizer()\n",
    "X = vect.fit_transform(sentences)\n",
    "\n",
    "# Xay dung tu dien\n",
    "dictionary=list(vect.get_feature_names_out())\n",
    "\n",
    "print(\"Words in dictionary: \", dictionary)"
   ]
  },
  {
   "cell_type": "code",
   "execution_count": 11,
   "id": "4eb6678a",
   "metadata": {},
   "outputs": [
    {
     "name": "stdout",
     "output_type": "stream",
     "text": [
      "Vector Bag-of-Word: \n",
      " [[1 1 1 ... 3 1 1]]\n"
     ]
    }
   ],
   "source": [
    "print(\"Vector Bag-of-Word: \\n\", X.toarray())"
   ]
  },
  {
   "cell_type": "code",
   "execution_count": null,
   "id": "c8707133",
   "metadata": {},
   "outputs": [],
   "source": []
  }
 ],
 "metadata": {
  "kernelspec": {
   "display_name": "Python 3 (ipykernel)",
   "language": "python",
   "name": "python3"
  },
  "language_info": {
   "codemirror_mode": {
    "name": "ipython",
    "version": 3
   },
   "file_extension": ".py",
   "mimetype": "text/x-python",
   "name": "python",
   "nbconvert_exporter": "python",
   "pygments_lexer": "ipython3",
   "version": "3.11.5"
  }
 },
 "nbformat": 4,
 "nbformat_minor": 5
}
