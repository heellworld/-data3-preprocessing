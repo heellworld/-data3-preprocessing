{
 "cells": [
  {
   "cell_type": "code",
   "execution_count": 5,
   "id": "40f9b58a",
   "metadata": {},
   "outputs": [
    {
     "name": "stderr",
     "output_type": "stream",
     "text": [
      "[nltk_data] Downloading package punkt to\n",
      "[nltk_data]     C:\\Users\\HELLO\\AppData\\Roaming\\nltk_data...\n",
      "[nltk_data]   Package punkt is already up-to-date!\n"
     ]
    },
    {
     "data": {
      "text/plain": [
       "True"
      ]
     },
     "execution_count": 5,
     "metadata": {},
     "output_type": "execute_result"
    }
   ],
   "source": [
    "from sklearn.feature_extraction.text import CountVectorizer\n",
    "import os\n",
    "from sklearn.feature_extraction.text import TfidfVectorizer\n",
    "import pandas as pd\n",
    "import nltk\n",
    "nltk.download('punkt')"
   ]
  },
  {
   "cell_type": "code",
   "execution_count": 2,
   "id": "a8ae7d2c",
   "metadata": {},
   "outputs": [],
   "source": [
    "# Define the directory path\n",
    "directory_path = r\"./Downloads/Data3/Data/Data_Preprocessing/Data_Preprocessing.txt\"\n",
    "# Đọc nội dung từ tệp\n",
    "with open(directory_path, 'r', encoding='utf-8') as file:\n",
    "    text = file.read()"
   ]
  },
  {
   "cell_type": "code",
   "execution_count": null,
   "id": "f8712c38",
   "metadata": {},
   "outputs": [],
   "source": [
    "text"
   ]
  },
  {
   "cell_type": "code",
   "execution_count": 6,
   "id": "c1578ce1",
   "metadata": {},
   "outputs": [],
   "source": [
    "# Tách thành danh sách các câu\n",
    "sentences = nltk.sent_tokenize(text)"
   ]
  },
  {
   "cell_type": "code",
   "execution_count": null,
   "id": "dfca6a0b",
   "metadata": {},
   "outputs": [],
   "source": [
    "sentences"
   ]
  },
  {
   "cell_type": "code",
   "execution_count": 8,
   "id": "6b4efa63",
   "metadata": {},
   "outputs": [],
   "source": [
    "tr_idf_model  = TfidfVectorizer()\n",
    "tf_idf_vector = tr_idf_model.fit_transform(sentences)"
   ]
  },
  {
   "cell_type": "code",
   "execution_count": 9,
   "id": "8835e5b9",
   "metadata": {},
   "outputs": [
    {
     "data": {
      "text/plain": [
       "array([[0.00232926, 0.00232926, 0.00232926, ..., 0.00698777, 0.00232926,\n",
       "        0.00232926]])"
      ]
     },
     "execution_count": 9,
     "metadata": {},
     "output_type": "execute_result"
    }
   ],
   "source": [
    "tf_idf_array = tf_idf_vector.toarray()\n",
    "tf_idf_array"
   ]
  },
  {
   "cell_type": "code",
   "execution_count": 10,
   "id": "06272eb6",
   "metadata": {},
   "outputs": [
    {
     "data": {
      "text/plain": [
       "array(['ac', 'ad', 'ai_lại', ..., 'ởđây', 'ức_chế', 'ứhự'], dtype=object)"
      ]
     },
     "execution_count": 10,
     "metadata": {},
     "output_type": "execute_result"
    }
   ],
   "source": [
    "W = tr_idf_model.get_feature_names_out()\n",
    "W"
   ]
  },
  {
   "cell_type": "code",
   "execution_count": 11,
   "id": "e6d0d234",
   "metadata": {},
   "outputs": [
    {
     "data": {
      "text/html": [
       "<div>\n",
       "<style scoped>\n",
       "    .dataframe tbody tr th:only-of-type {\n",
       "        vertical-align: middle;\n",
       "    }\n",
       "\n",
       "    .dataframe tbody tr th {\n",
       "        vertical-align: top;\n",
       "    }\n",
       "\n",
       "    .dataframe thead th {\n",
       "        text-align: right;\n",
       "    }\n",
       "</style>\n",
       "<table border=\"1\" class=\"dataframe\">\n",
       "  <thead>\n",
       "    <tr style=\"text-align: right;\">\n",
       "      <th></th>\n",
       "      <th>ac</th>\n",
       "      <th>ad</th>\n",
       "      <th>ai_lại</th>\n",
       "      <th>ai_ngờ</th>\n",
       "      <th>anh_chị</th>\n",
       "      <th>anh_ấy</th>\n",
       "      <th>app</th>\n",
       "      <th>apple</th>\n",
       "      <th>ba_chỉ</th>\n",
       "      <th>ba_rọi</th>\n",
       "      <th>...</th>\n",
       "      <th>ồn_ào</th>\n",
       "      <th>ổn</th>\n",
       "      <th>ớn</th>\n",
       "      <th>ớt</th>\n",
       "      <th>ời</th>\n",
       "      <th>ởmức</th>\n",
       "      <th>ởnha_trang</th>\n",
       "      <th>ởđây</th>\n",
       "      <th>ức_chế</th>\n",
       "      <th>ứhự</th>\n",
       "    </tr>\n",
       "  </thead>\n",
       "  <tbody>\n",
       "    <tr>\n",
       "      <th>0</th>\n",
       "      <td>0.002329</td>\n",
       "      <td>0.002329</td>\n",
       "      <td>0.002329</td>\n",
       "      <td>0.002329</td>\n",
       "      <td>0.004659</td>\n",
       "      <td>0.002329</td>\n",
       "      <td>0.002329</td>\n",
       "      <td>0.002329</td>\n",
       "      <td>0.020963</td>\n",
       "      <td>0.004659</td>\n",
       "      <td>...</td>\n",
       "      <td>0.004659</td>\n",
       "      <td>0.044256</td>\n",
       "      <td>0.002329</td>\n",
       "      <td>0.011646</td>\n",
       "      <td>0.002329</td>\n",
       "      <td>0.002329</td>\n",
       "      <td>0.002329</td>\n",
       "      <td>0.006988</td>\n",
       "      <td>0.002329</td>\n",
       "      <td>0.002329</td>\n",
       "    </tr>\n",
       "  </tbody>\n",
       "</table>\n",
       "<p>1 rows × 1888 columns</p>\n",
       "</div>"
      ],
      "text/plain": [
       "         ac        ad    ai_lại    ai_ngờ   anh_chị    anh_ấy       app  \\\n",
       "0  0.002329  0.002329  0.002329  0.002329  0.004659  0.002329  0.002329   \n",
       "\n",
       "      apple    ba_chỉ    ba_rọi  ...     ồn_ào        ổn        ớn        ớt  \\\n",
       "0  0.002329  0.020963  0.004659  ...  0.004659  0.044256  0.002329  0.011646   \n",
       "\n",
       "         ời      ởmức  ởnha_trang      ởđây    ức_chế       ứhự  \n",
       "0  0.002329  0.002329    0.002329  0.006988  0.002329  0.002329  \n",
       "\n",
       "[1 rows x 1888 columns]"
      ]
     },
     "execution_count": 11,
     "metadata": {},
     "output_type": "execute_result"
    }
   ],
   "source": [
    "df_tf_idf = pd.DataFrame(tf_idf_array, columns = W)\n",
    "df_tf_idf"
   ]
  },
  {
   "cell_type": "code",
   "execution_count": null,
   "id": "0444a169",
   "metadata": {},
   "outputs": [],
   "source": []
  }
 ],
 "metadata": {
  "kernelspec": {
   "display_name": "Python 3 (ipykernel)",
   "language": "python",
   "name": "python3"
  },
  "language_info": {
   "codemirror_mode": {
    "name": "ipython",
    "version": 3
   },
   "file_extension": ".py",
   "mimetype": "text/x-python",
   "name": "python",
   "nbconvert_exporter": "python",
   "pygments_lexer": "ipython3",
   "version": "3.11.5"
  }
 },
 "nbformat": 4,
 "nbformat_minor": 5
}
